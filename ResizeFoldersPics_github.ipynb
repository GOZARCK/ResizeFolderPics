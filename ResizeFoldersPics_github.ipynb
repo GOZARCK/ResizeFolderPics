{
  "cells": [
    {
      "cell_type": "markdown",
      "metadata": {
        "id": "view-in-github",
        "colab_type": "text"
      },
      "source": [
        "<a href=\"https://colab.research.google.com/github/GOZARCK/ResizeFolderPics/blob/main/ResizeFoldersPics_github.ipynb\" target=\"_parent\"><img src=\"https://colab.research.google.com/assets/colab-badge.svg\" alt=\"Open In Colab\"/></a>"
      ]
    },
    {
      "cell_type": "markdown",
      "metadata": {
        "id": "F5LjN6eBJbjW"
      },
      "source": [
        "# Resize Folder Pics\n",
        "- You can resize folder image  and save it to another using cv2.\n",
        "- I Working with a lot of image everyday, i create this script to make my job more easy.\n",
        "- Please enjoy!\n"
      ]
    },
    {
      "cell_type": "code",
      "execution_count": null,
      "metadata": {
        "id": "Ak7JFN5spVd4",
        "cellView": "form"
      },
      "outputs": [],
      "source": [
        "#@title #Mount Drive\n",
        "#@markdown Folder with images\n",
        "!cd '/content' \n",
        "!git clone https://github.com/GOZARCK/ResizeFolderPics.git\n",
        "from google.colab import drive\n",
        "drive.mount('/content/drive')"
      ]
    },
    {
      "cell_type": "code",
      "execution_count": null,
      "metadata": {
        "cellView": "form",
        "id": "XitDwSseJJ4f"
      },
      "outputs": [],
      "source": [
        "#Resize folder pics START\n",
        "#!git clone https://github.com/GOZARCK/ResizeFolderPics.git\n",
        "!cd '/content/'\n",
        "!mkdir pics_resized\n",
        "run_code = ' --folder /content/drive/MyDrive/img4k --percent 50 --dfolder /content/pics_resized --quality 40' #@param {type:\"string\"}\n",
        "!python '/content/ResizeFolderPics/main.py' $run_code"
      ]
    }
  ],
  "metadata": {
    "colab": {
      "collapsed_sections": [],
      "provenance": [],
      "include_colab_link": true
    },
    "kernelspec": {
      "display_name": "Python 3",
      "name": "python3"
    },
    "language_info": {
      "name": "python"
    }
  },
  "nbformat": 4,
  "nbformat_minor": 0
}
